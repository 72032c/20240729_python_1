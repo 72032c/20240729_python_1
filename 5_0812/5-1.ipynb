{
 "cells": [
  {
   "cell_type": "code",
   "execution_count": 1,
   "metadata": {},
   "outputs": [],
   "source": [
    "#利用if巢狀 進行國文及數學分數判斷\n",
    "#兩科都100分，獎金1000元\n",
    "#其中一科100分，獎金500元\n",
    "#否則，獎金0元"
   ]
  },
  {
   "cell_type": "code",
   "execution_count": 2,
   "metadata": {},
   "outputs": [],
   "source": [
    "#利用if+邏輯運算子 進行國文及數學分數判斷\n",
    "#兩科都100分，獎金1000元\n",
    "#其中一科100分，獎金500元\n",
    "#否則，獎金0元"
   ]
  },
  {
   "cell_type": "code",
   "execution_count": 3,
   "metadata": {},
   "outputs": [],
   "source": [
    "#利用if+邏輯運算子 進行血壓值判斷\n",
    "#血壓應於80~120之間，符合為正常\n",
    "#否則，不正常"
   ]
  },
  {
   "cell_type": "code",
   "execution_count": 4,
   "metadata": {},
   "outputs": [],
   "source": [
    "#利用if進行血壓值判斷\n",
    "#血壓應於80~120之間，符合為正常\n",
    "#否則，不正常#血壓應於80~120之間，符合為正常\n",
    "#備註:不能使用到邏輯運算子"
   ]
  }
 ],
 "metadata": {
  "kernelspec": {
   "display_name": "Python 3",
   "language": "python",
   "name": "python3"
  },
  "language_info": {
   "codemirror_mode": {
    "name": "ipython",
    "version": 3
   },
   "file_extension": ".py",
   "mimetype": "text/x-python",
   "name": "python",
   "nbconvert_exporter": "python",
   "pygments_lexer": "ipython3",
   "version": "3.11.9"
  }
 },
 "nbformat": 4,
 "nbformat_minor": 2
}
