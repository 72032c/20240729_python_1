{
 "cells": [
  {
   "cell_type": "code",
   "execution_count": 13,
   "metadata": {},
   "outputs": [
    {
     "name": "stdout",
     "output_type": "stream",
     "text": [
      "獎金:0\n"
     ]
    }
   ],
   "source": [
    "#利用if+邏輯運算子 進行國文及數學分數判斷\n",
    "#兩科都100分，獎金1000元\n",
    "#其中一科100分，獎金500元\n",
    "#否則，獎金0元\n",
    "\n",
    "chinese=int(input(\"請輸入國文分數:\"))\n",
    "math=int(input(\"請輸入數學分數:\"))\n",
    "if chinese==100 and math==100:\n",
    "    money=1000\n",
    "elif chinese==100 or math==100:\n",
    "    money=500\n",
    "else :\n",
    "    money=0\n",
    "print(f\"獎金:{money}\")"
   ]
  }
 ],
 "metadata": {
  "kernelspec": {
   "display_name": "Python 3",
   "language": "python",
   "name": "python3"
  },
  "language_info": {
   "codemirror_mode": {
    "name": "ipython",
    "version": 3
   },
   "file_extension": ".py",
   "mimetype": "text/x-python",
   "name": "python",
   "nbconvert_exporter": "python",
   "pygments_lexer": "ipython3",
   "version": "3.11.9"
  }
 },
 "nbformat": 4,
 "nbformat_minor": 2
}
