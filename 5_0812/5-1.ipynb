{
 "cells": [
  {
   "cell_type": "code",
   "execution_count": 1,
   "metadata": {},
   "outputs": [],
   "source": [
    "#利用if巢狀 進行國文及數學分數判斷\n",
    "#兩科都100分，獎金1000元\n",
    "#其中一科100分，獎金500元\n",
    "#否則，獎金0元"
   ]
  },
  {
   "cell_type": "code",
   "execution_count": 2,
   "metadata": {},
   "outputs": [],
   "source": [
    "#利用if+邏輯運算子 進行國文及數學分數判斷\n",
    "#兩科都100分，獎金1000元\n",
    "#其中一科100分，獎金500元\n",
    "#否則，獎金0元"
   ]
  }
 ],
 "metadata": {
  "kernelspec": {
   "display_name": "Python 3",
   "language": "python",
   "name": "python3"
  },
  "language_info": {
   "codemirror_mode": {
    "name": "ipython",
    "version": 3
   },
   "file_extension": ".py",
   "mimetype": "text/x-python",
   "name": "python",
   "nbconvert_exporter": "python",
   "pygments_lexer": "ipython3",
   "version": "3.11.9"
  }
 },
 "nbformat": 4,
 "nbformat_minor": 2
}
