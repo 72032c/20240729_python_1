{
 "cells": [
  {
   "cell_type": "code",
   "execution_count": null,
   "metadata": {},
   "outputs": [],
   "source": [
    "#求2個數值的公因數\n",
    "\n",
    "提示:\n",
    "value1 = int(input(\"請輸入第1個數值:\"))\n",
    "value2 = int(input(\"請輸入第2個數值:\"))\n",
    "\n",
    "(max,min) = (value1,value2) if value1 > value2 else (value2,value1)"
   ]
  }
 ],
 "metadata": {
  "language_info": {
   "name": "python"
  }
 },
 "nbformat": 4,
 "nbformat_minor": 2
}
