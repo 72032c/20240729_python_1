{
 "cells": [
  {
   "cell_type": "code",
   "execution_count": 27,
   "metadata": {},
   "outputs": [
    {
     "data": {
      "text/plain": [
       "21"
      ]
     },
     "execution_count": 27,
     "metadata": {},
     "output_type": "execute_result"
    }
   ],
   "source": [
    "import random\n",
    "random.randint(1,100)"
   ]
  },
  {
   "cell_type": "code",
   "execution_count": 6,
   "metadata": {},
   "outputs": [
    {
     "name": "stdout",
     "output_type": "stream",
     "text": [
      "請輸入整數:5\n"
     ]
    }
   ],
   "source": [
    "import pyinputplus as pyip\n",
    "num=pyip.inputInt(\"請猜數字,範圍:{min}~{max}\",min=1,max=100)\n",
    "print(num)"
   ]
  },
  {
   "cell_type": "code",
   "execution_count": 13,
   "metadata": {},
   "outputs": [
    {
     "name": "stdout",
     "output_type": "stream",
     "text": [
      "======猜數字遊戲======\n",
      "請猜數字,範圍:1~100\n",
      "請猜數字,範圍:1~49\n",
      "請猜數字,範圍:31~49\n",
      "請猜數字,範圍:36~49\n",
      "請猜數字,範圍:36~41\n",
      "請猜數字,範圍:40~41\n",
      "您猜對了! 答案為40\n",
      "您猜了6次\n",
      "應用程式結束\n"
     ]
    }
   ],
   "source": [
    "import random\n",
    "import pyinputplus as pyip\n",
    "min=1\n",
    "max=100\n",
    "count=0\n",
    "ans=random.randint(min,max+1)\n",
    "print(\"======猜數字遊戲======\")\n",
    "while True:\n",
    "    count+=1\n",
    "    keyin=pyip.inputInt(f\"請猜數字,範圍:{min}~{max}\\n\",min=min,max=max)\n",
    "    if keyin==ans:\n",
    "        print(f\"您猜對了! 答案為{ans}\")\n",
    "        print(f\"您猜了{count}次\")\n",
    "        break\n",
    "    elif keyin>ans:\n",
    "        max=keyin-1\n",
    "    elif keyin<ans:\n",
    "        min=keyin+1\n",
    "print(\"應用程式結束\")"
   ]
  }
 ],
 "metadata": {
  "kernelspec": {
   "display_name": "Python 3",
   "language": "python",
   "name": "python3"
  },
  "language_info": {
   "codemirror_mode": {
    "name": "ipython",
    "version": 3
   },
   "file_extension": ".py",
   "mimetype": "text/x-python",
   "name": "python",
   "nbconvert_exporter": "python",
   "pygments_lexer": "ipython3",
   "version": "3.11.9"
  }
 },
 "nbformat": 4,
 "nbformat_minor": 2
}
