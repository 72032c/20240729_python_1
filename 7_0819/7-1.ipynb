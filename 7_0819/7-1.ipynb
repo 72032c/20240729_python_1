{
 "cells": [
  {
   "cell_type": "code",
   "execution_count": 27,
   "metadata": {},
   "outputs": [
    {
     "data": {
      "text/plain": [
       "21"
      ]
     },
     "execution_count": 27,
     "metadata": {},
     "output_type": "execute_result"
    }
   ],
   "source": [
    "import random\n",
    "random.randint(1,100)"
   ]
  },
  {
   "cell_type": "code",
   "execution_count": 39,
   "metadata": {},
   "outputs": [
    {
     "name": "stdout",
     "output_type": "stream",
     "text": [
      "======猜數字遊戲======\n",
      "您輸入的數值小於最小值\n",
      "您輸入的數值小於最小值\n",
      "您猜對了!\n",
      "應用程式結束\n"
     ]
    }
   ],
   "source": [
    "import random\n",
    "min=1\n",
    "max=100\n",
    "ans=random.randint(min,max+1)\n",
    "print(\"======猜數字遊戲======\")\n",
    "while True:\n",
    "    keyin=int(input(f\"請猜數字,範圍:{min}~{max}\"))\n",
    "    if keyin==ans:\n",
    "        print(\"您猜對了!\")\n",
    "        break\n",
    "    elif max>=keyin>ans:\n",
    "        max=keyin\n",
    "    elif min<=keyin<ans:\n",
    "        min=keyin\n",
    "    elif max<keyin>ans:\n",
    "        print(\"您輸入的數值大於最大值\")\n",
    "    elif min>keyin<ans:\n",
    "        print(\"您輸入的數值小於最小值\")\n",
    "print(\"應用程式結束\")"
   ]
  },
  {
   "cell_type": "code",
   "execution_count": 41,
   "metadata": {},
   "outputs": [],
   "source": [
    "import pyinputplus as pyip"
   ]
  }
 ],
 "metadata": {
  "kernelspec": {
   "display_name": "Python 3",
   "language": "python",
   "name": "python3"
  },
  "language_info": {
   "codemirror_mode": {
    "name": "ipython",
    "version": 3
   },
   "file_extension": ".py",
   "mimetype": "text/x-python",
   "name": "python",
   "nbconvert_exporter": "python",
   "pygments_lexer": "ipython3",
   "version": "3.11.9"
  }
 },
 "nbformat": 4,
 "nbformat_minor": 2
}
