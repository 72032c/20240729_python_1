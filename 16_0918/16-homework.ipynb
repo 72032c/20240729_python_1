{
 "cells": [
  {
   "cell_type": "code",
   "execution_count": 1,
   "metadata": {},
   "outputs": [],
   "source": [
    "#請使用world.csv,取出日本和美國,最多新增確診數的資料\n",
    "#兩筆資料組合程為一個dataFrame"
   ]
  },
  {
   "cell_type": "code",
   "execution_count": null,
   "metadata": {},
   "outputs": [],
   "source": [
    "import pandas as pd\n",
    "df = pd.read_csv('world.csv')\n",
    "df1 = df.reindex(columns=['洲名','國家','日期','總確診數','新增確診數','總人口數'])\n",
    "df1"
   ]
  },
  {
   "cell_type": "code",
   "execution_count": null,
   "metadata": {},
   "outputs": [],
   "source": [
    "# Japan\n",
    "df_jp = df1.query('國家==\"日本\"')\n",
    "jp_max = int(df_jp['新增確診數'].max())\n",
    "jp_max\n",
    "df_jp_query = df_jp.query('新增確診數==@jp_max')\n",
    "df_jp_query"
   ]
  },
  {
   "cell_type": "code",
   "execution_count": null,
   "metadata": {},
   "outputs": [],
   "source": [
    "# USA\n",
    "df_usa = df1.query('國家==\"美國\"')\n",
    "usa_max = int(df_usa['新增確診數'].max())\n",
    "df_usa_query = df_usa.query('新增確診數==@usa_max')\n",
    "df_usa_query"
   ]
  },
  {
   "cell_type": "code",
   "execution_count": null,
   "metadata": {},
   "outputs": [],
   "source": [
    "# Combined\n",
    "df_jp_usa = pd.concat([df_jp_query, df_usa_query], ignore_index=True)\n",
    "print(type(df_jp_usa))\n",
    "df_jp_usa"
   ]
  },
  {
   "cell_type": "code",
   "execution_count": null,
   "metadata": {},
   "outputs": [],
   "source": [
    "# Combined\n",
    "df_jp_usa = pd.concat([df_jp_query, df_usa_query], ignore_index=True)\n",
    "print(type(df_jp_usa))\n",
    "df_jp_usa"
   ]
  }
 ],
 "metadata": {
  "kernelspec": {
   "display_name": "Python 3",
   "language": "python",
   "name": "python3"
  },
  "language_info": {
   "codemirror_mode": {
    "name": "ipython",
    "version": 3
   },
   "file_extension": ".py",
   "mimetype": "text/x-python",
   "name": "python",
   "nbconvert_exporter": "python",
   "pygments_lexer": "ipython3",
   "version": "3.11.9"
  }
 },
 "nbformat": 4,
 "nbformat_minor": 2
}
