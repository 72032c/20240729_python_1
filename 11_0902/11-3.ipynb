{
 "cells": [
  {
   "cell_type": "code",
   "execution_count": 7,
   "metadata": {},
   "outputs": [
    {
     "data": {
      "text/plain": [
       "{'sno': '500101001',\n",
       " 'sna': 'YouBike2.0_捷運科技大樓站',\n",
       " 'sarea': '大安區',\n",
       " 'mday': '2024-09-02 21:02:20',\n",
       " 'ar': '復興南路二段235號前',\n",
       " 'sareaen': 'Daan Dist.',\n",
       " 'snaen': 'YouBike2.0_MRT Technology Bldg. Sta.',\n",
       " 'aren': 'No.235， Sec. 2， Fuxing S. Rd.',\n",
       " 'act': '1',\n",
       " 'srcUpdateTime': '2024-09-02 21:03:24',\n",
       " 'updateTime': '2024-09-02 21:03:26',\n",
       " 'infoTime': '2024-09-02 21:02:20',\n",
       " 'infoDate': '2024-09-02',\n",
       " 'total': 28,\n",
       " 'available_rent_bikes': 3,\n",
       " 'latitude': 25.02605,\n",
       " 'longitude': 121.5436,\n",
       " 'available_return_bikes': 25}"
      ]
     },
     "execution_count": 7,
     "metadata": {},
     "output_type": "execute_result"
    }
   ],
   "source": [
    "import requests\n",
    "import json\n",
    "from requests.exceptions import HTTPError,ConnectionError,Timeout\n",
    "\n",
    "try:\n",
    "    url = 'https://tcgbusfs.blob.core.windows.net/dotapp/youbike/v2/youbike_immediate.json'\n",
    "    response = requests.get(url)\n",
    "    response.raise_for_status()\n",
    "    #print(type(response))\n",
    "    content = response.text\n",
    "    #print(content)\n",
    "except ConnectionError:\n",
    "    print(\"連線伺服器發生錯誤\")\n",
    "except Timeout:\n",
    "    print(\"伺服器太忙,沒有回應\")\n",
    "except HTTPError:\n",
    "    print(\"伺服器回應連線錯誤\")\n",
    "except Exception:\n",
    "    print(\"不知名的錯誤\")\n",
    "\n",
    "stations:str=\"\"\"\n",
    "{\"sno\":\"500101001\",\"sna\":\"YouBike2.0_捷運科技大樓站\",\"sarea\":\"大安區\",\"mday\":\"2024-09-02 21:02:20\",\"ar\":\"復興南路二段235號前\",\"sareaen\":\"Daan Dist.\",\"snaen\":\"YouBike2.0_MRT Technology Bldg. Sta.\",\"aren\":\"No.235， Sec. 2， Fuxing S. Rd.\",\"act\":\"1\",\"srcUpdateTime\":\"2024-09-02 21:03:24\",\"updateTime\":\"2024-09-02 21:03:26\",\"infoTime\":\"2024-09-02 21:02:20\",\"infoDate\":\"2024-09-02\",\"total\":28,\"available_rent_bikes\":3,\"latitude\":25.02605,\"longitude\":121.5436,\"available_return_bikes\":25}\n",
    "\"\"\"\n",
    "\n",
    "sta1=json.loads(stations)\n",
    "sta1"
   ]
  }
 ],
 "metadata": {
  "kernelspec": {
   "display_name": "Python 3",
   "language": "python",
   "name": "python3"
  },
  "language_info": {
   "codemirror_mode": {
    "name": "ipython",
    "version": 3
   },
   "file_extension": ".py",
   "mimetype": "text/x-python",
   "name": "python",
   "nbconvert_exporter": "python",
   "pygments_lexer": "ipython3",
   "version": "3.11.9"
  }
 },
 "nbformat": 4,
 "nbformat_minor": 2
}
