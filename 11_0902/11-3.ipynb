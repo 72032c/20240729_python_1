{
 "cells": [
  {
   "cell_type": "code",
   "execution_count": 35,
   "metadata": {},
   "outputs": [
    {
     "data": {
      "text/plain": [
       "{'sno': 500101001,\n",
       " 'sna': 'YouBike2.0_捷運科技大樓站',\n",
       " 'sarea': '大安區',\n",
       " 'mday': '2024-09-02 21:53:20',\n",
       " 'ar': '復興南路二段235號前',\n",
       " 'total': 28,\n",
       " 'available_rent_bikes': 1,\n",
       " 'available_return_bikes': 27}"
      ]
     },
     "execution_count": 35,
     "metadata": {},
     "output_type": "execute_result"
    }
   ],
   "source": [
    "import requests\n",
    "import json\n",
    "from requests.exceptions import HTTPError,ConnectionError,Timeout\n",
    "from pydantic import BaseModel\n",
    "\n",
    "try:\n",
    "    url = 'https://tcgbusfs.blob.core.windows.net/dotapp/youbike/v2/youbike_immediate.json'\n",
    "    response = requests.get(url)\n",
    "    response.raise_for_status()\n",
    "    #print(type(response))\n",
    "    content = response.text\n",
    "    #print(content)\n",
    "except ConnectionError:\n",
    "    print(\"連線伺服器發生錯誤\")\n",
    "except Timeout:\n",
    "    print(\"伺服器太忙,沒有回應\")\n",
    "except HTTPError:\n",
    "    print(\"伺服器回應連線錯誤\")\n",
    "except Exception:\n",
    "    print(\"不知名的錯誤\")\n",
    "\n",
    "stations_str=\"\"\"\n",
    "{\"sno\":\"500101001\",\"sna\":\"YouBike2.0_捷運科技大樓站\",\"sarea\":\"大安區\",\"mday\":\"2024-09-02 21:53:20\",\"ar\":\"復興南路二段235號前\",\"sareaen\":\"Daan Dist.\",\"snaen\":\"YouBike2.0_MRT Technology Bldg. Sta.\",\"aren\":\"No.235， Sec. 2， Fuxing S. Rd.\",\"act\":\"1\",\"srcUpdateTime\":\"2024-09-02 21:53:23\",\"updateTime\":\"2024-09-02 21:53:27\",\"infoTime\":\"2024-09-02 21:53:20\",\"infoDate\":\"2024-09-02\",\"total\":28,\"available_rent_bikes\":1,\"latitude\":25.02605,\"longitude\":121.5436,\"available_return_bikes\":27}\n",
    "\"\"\"\n",
    "\n",
    "sta1=json.loads(stations_str)\n",
    "\n",
    "class Station(BaseModel):\n",
    "    sno:int\n",
    "    sna:str\n",
    "    sarea:str\n",
    "    mday:str\n",
    "    ar:str\n",
    "    total:int\n",
    "    available_rent_bikes:int\n",
    "    available_return_bikes:int\n",
    "\n",
    "sta1=Station.model_validate_json(stations_str)\n",
    "#使用實體方法轉換成python的資料結構\n",
    "sta1.model_dump()"
   ]
  }
 ],
 "metadata": {
  "kernelspec": {
   "display_name": "Python 3",
   "language": "python",
   "name": "python3"
  },
  "language_info": {
   "codemirror_mode": {
    "name": "ipython",
    "version": 3
   },
   "file_extension": ".py",
   "mimetype": "text/x-python",
   "name": "python",
   "nbconvert_exporter": "python",
   "pygments_lexer": "ipython3",
   "version": "3.11.9"
  }
 },
 "nbformat": 4,
 "nbformat_minor": 2
}
