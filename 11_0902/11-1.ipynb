{
 "cells": [
  {
   "cell_type": "code",
   "execution_count": null,
   "metadata": {},
   "outputs": [],
   "source": [
    "import csv\n",
    "from pprint import pprint\n",
    "with open(\"歷年國內主要觀光遊憩據點遊客人數月別統計.csv\",encoding=\"utf-8\",newline=\"\") as file:\n",
    "    dictReader=csv.DictReader(file)\n",
    "    contents:list=list(dictReader)\n",
    "\n",
    "yushan:list=[]\n",
    "nantou:list=[]\n",
    "\n",
    "for item in contents:\n",
    "    if \"玉山國家公園\" in item[\"觀光遊憩區\"]:\n",
    "        yushan.append(item)\n",
    "key_yushan:list[str]=list(yushan[0].keys())\n",
    "for item in contents:\n",
    "    if \"南投縣\" in item[\"縣市\"]:\n",
    "        nantou.append(item)\n",
    "key_nantou:list[str]=list(nantou[0].keys())\n",
    "\n",
    "with open(\"玉山國家公園.csv\",\"w\",encoding=\"utf-8\",newline=\"\") as file:\n",
    "    dictWriter=csv.DictWriter(file,key_yushan)\n",
    "    dictWriter.writeheader()\n",
    "    dictWriter.writerows(yushan)\n",
    "with open(\"南投縣.csv\",\"w\",encoding=\"utf-8\",newline=\"\") as file:\n",
    "    dictWriter=csv.DictWriter(file,key_nantou)\n",
    "    dictWriter.writeheader()\n",
    "    dictWriter.writerows(nantou)"
   ]
  }
 ],
 "metadata": {
  "language_info": {
   "name": "python"
  }
 },
 "nbformat": 4,
 "nbformat_minor": 2
}
