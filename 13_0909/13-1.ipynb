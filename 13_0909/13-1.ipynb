{
 "cells": [
  {
   "cell_type": "code",
   "execution_count": 3,
   "metadata": {},
   "outputs": [
    {
     "ename": "NameError",
     "evalue": "name 'flt' is not defined",
     "output_type": "error",
     "traceback": [
      "\u001b[0;31m---------------------------------------------------------------------------\u001b[0m",
      "\u001b[0;31mNameError\u001b[0m                                 Traceback (most recent call last)",
      "Cell \u001b[0;32mIn[3], line 16\u001b[0m\n\u001b[1;32m     13\u001b[0m \u001b[38;5;28;01melse\u001b[39;00m:\n\u001b[1;32m     14\u001b[0m     content\u001b[38;5;241m=\u001b[39mrespons\u001b[38;5;241m.\u001b[39mtext\n\u001b[0;32m---> 16\u001b[0m \u001b[38;5;28;43;01mclass\u001b[39;49;00m\u001b[43m \u001b[49m\u001b[38;5;21;43;01mFactorydata\u001b[39;49;00m\u001b[43m(\u001b[49m\u001b[43mBaseModel\u001b[49m\u001b[43m)\u001b[49m\u001b[43m:\u001b[49m\n\u001b[1;32m     17\u001b[0m \u001b[43m    \u001b[49m\u001b[43m名稱\u001b[49m\u001b[43m:\u001b[49m\u001b[38;5;28;43mstr\u001b[39;49m\u001b[38;5;241;43m=\u001b[39;49m\u001b[43mField\u001b[49m\u001b[43m(\u001b[49m\u001b[43malias\u001b[49m\u001b[38;5;241;43m=\u001b[39;49m\u001b[38;5;124;43m\"\u001b[39;49m\u001b[38;5;124;43morganizer\u001b[39;49m\u001b[38;5;124;43m\"\u001b[39;49m\u001b[43m)\u001b[49m\n\u001b[1;32m     18\u001b[0m \u001b[43m    \u001b[49m\u001b[43m註冊編號\u001b[49m\u001b[43m:\u001b[49m\u001b[38;5;28;43mstr\u001b[39;49m\u001b[38;5;241;43m=\u001b[39;49m\u001b[43mField\u001b[49m\u001b[43m(\u001b[49m\u001b[43malias\u001b[49m\u001b[38;5;241;43m=\u001b[39;49m\u001b[38;5;124;43m\"\u001b[39;49m\u001b[38;5;124;43mno\u001b[39;49m\u001b[38;5;124;43m\"\u001b[39;49m\u001b[43m)\u001b[49m\n",
      "Cell \u001b[0;32mIn[3], line 35\u001b[0m, in \u001b[0;36mFactorydata\u001b[0;34m()\u001b[0m\n\u001b[1;32m     23\u001b[0m 日期:datetime\u001b[38;5;241m=\u001b[39mField(alias\u001b[38;5;241m=\u001b[39m\u001b[38;5;124m\"\u001b[39m\u001b[38;5;124mdate\u001b[39m\u001b[38;5;124m\"\u001b[39m)\n\u001b[1;32m     24\u001b[0m \u001b[38;5;250m\u001b[39m\u001b[38;5;124;03m\"\"\"\u001b[39;00m\n\u001b[1;32m     25\u001b[0m \u001b[38;5;124;03m可省略，使用下方三行代替\u001b[39;00m\n\u001b[1;32m     26\u001b[0m \u001b[38;5;124;03m@field_validator(\"緯度\",\"經度\",mode=\"before\")\u001b[39;00m\n\u001b[0;32m   (...)\u001b[0m\n\u001b[1;32m     32\u001b[0m \u001b[38;5;124;03m        return round(float(value),ndigits=5)\u001b[39;00m\n\u001b[1;32m     33\u001b[0m \u001b[38;5;124;03m\"\"\"\u001b[39;00m\n\u001b[1;32m     34\u001b[0m \u001b[38;5;129m@field_serializer\u001b[39m(\u001b[38;5;124m\"\u001b[39m\u001b[38;5;124m緯度\u001b[39m\u001b[38;5;124m\"\u001b[39m,\u001b[38;5;124m\"\u001b[39m\u001b[38;5;124m經度\u001b[39m\u001b[38;5;124m\"\u001b[39m)\n\u001b[0;32m---> 35\u001b[0m \u001b[38;5;28;01mdef\u001b[39;00m \u001b[38;5;21mround\u001b[39m(\u001b[38;5;28mself\u001b[39m,value:\u001b[38;5;28mfloat\u001b[39m\u001b[38;5;241m|\u001b[39m\u001b[38;5;28;01mNone\u001b[39;00m)\u001b[38;5;241m-\u001b[39m\u001b[38;5;241m>\u001b[39m\u001b[43mflt\u001b[49m\u001b[38;5;241m|\u001b[39m\u001b[38;5;28;01mNone\u001b[39;00m:\n\u001b[1;32m     36\u001b[0m     \u001b[38;5;28;01mreturn\u001b[39;00m \u001b[38;5;28mround\u001b[39m(\u001b[38;5;28mfloat\u001b[39m(value),ndigits\u001b[38;5;241m=\u001b[39m\u001b[38;5;241m5\u001b[39m)\n\u001b[1;32m     38\u001b[0m \u001b[38;5;129m@field_serializer\u001b[39m(\u001b[38;5;124m\"\u001b[39m\u001b[38;5;124m日期\u001b[39m\u001b[38;5;124m\"\u001b[39m)\n\u001b[1;32m     39\u001b[0m \u001b[38;5;28;01mdef\u001b[39;00m \u001b[38;5;21mdate_serializer\u001b[39m(\u001b[38;5;28mself\u001b[39m,date:datetime)\u001b[38;5;241m-\u001b[39m\u001b[38;5;241m>\u001b[39m\u001b[38;5;28mstr\u001b[39m:\n",
      "\u001b[0;31mNameError\u001b[0m: name 'flt' is not defined"
     ]
    }
   ],
   "source": [
    "import requests\n",
    "from requests import Response\n",
    "from pydantic import BaseModel,RootModel,Field,field_validator,field_serializer\n",
    "from datetime import datetime\n",
    "from pprint import pprint\n",
    "\n",
    "class Factorydata(BaseModel):\n",
    "    名稱:str=Field(alias=\"organizer\")\n",
    "    註冊編號:str=Field(alias=\"no\")\n",
    "    地址:str=Field(alias=\"address\")\n",
    "    統編:str=Field(alias=\"tax_id_number\")\n",
    "    緯度:float|None=Field(alias=\"wgs84ax\")\n",
    "    經度:float|None=Field(alias=\"wgs84ay\")\n",
    "    日期:datetime=Field(alias=\"date\")\n",
    "    \"\"\"\n",
    "    可省略，使用下方六行代替\n",
    "    @field_validator(\"緯度\",\"經度\",mode=\"before\")\n",
    "    @classmethod\n",
    "    def slice_str(cls,value:str)->float|None:\n",
    "        if value==None:\n",
    "            return None\n",
    "        else:\n",
    "            return round(float(value),ndigits=5)\n",
    "    \"\"\"\n",
    "    @field_serializer(\"緯度\",\"經度\")\n",
    "    def round(self,value:float|None)->float|None:\n",
    "        if value==None:\n",
    "            return None\n",
    "        else:\n",
    "            return round(float(value),ndigits=5)\n",
    "    \n",
    "    @field_serializer(\"日期\")\n",
    "    def date_serializer(self,date:datetime)->str:\n",
    "        return date.strftime(f\"中華民國{date.year-1911}年%m月%d日\")\n",
    "\n",
    "\n",
    "class Factory(RootModel):\n",
    "    root:list[Factorydata]\n",
    "\n",
    "def main(content:str):\n",
    "    factory:Factory=Factory.model_validate_json(content)\n",
    "    factory_list=factory.model_dump()\n",
    "    pprint(factory_list)\n",
    "\n",
    "url=\"https://data.ntpc.gov.tw/api/datasets/c51d5111-c300-44c9-b4f1-4b28b9929ca2/json?size=1000\"\n",
    "try:\n",
    "    respons:Response=requests.request(\"GET\",url)\n",
    "    respons.raise_for_status()\n",
    "except Exception:\n",
    "    print(\"下載錯誤\")\n",
    "else:\n",
    "    content=respons.text\n",
    "    main(content)"
   ]
  }
 ],
 "metadata": {
  "kernelspec": {
   "display_name": "Python 3",
   "language": "python",
   "name": "python3"
  },
  "language_info": {
   "codemirror_mode": {
    "name": "ipython",
    "version": 3
   },
   "file_extension": ".py",
   "mimetype": "text/x-python",
   "name": "python",
   "nbconvert_exporter": "python",
   "pygments_lexer": "ipython3",
   "version": "3.11.9"
  }
 },
 "nbformat": 4,
 "nbformat_minor": 2
}
