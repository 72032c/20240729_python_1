{
 "cells": [
  {
   "cell_type": "code",
   "execution_count": 7,
   "metadata": {},
   "outputs": [
    {
     "data": {
      "text/plain": [
       "[3, 6, 9, 12, 15]"
      ]
     },
     "execution_count": 7,
     "metadata": {},
     "output_type": "execute_result"
    }
   ],
   "source": [
    "values=[1,2,3,4,5]\n",
    "multiply=3\n",
    "\n",
    "new_values=[]\n",
    "for i in values:\n",
    "    new_values.append(i*multiply)\n",
    "new_values"
   ]
  },
  {
   "cell_type": "code",
   "execution_count": 8,
   "metadata": {},
   "outputs": [
    {
     "data": {
      "text/plain": [
       "[3, 6, 9, 12, 15]"
      ]
     },
     "execution_count": 8,
     "metadata": {},
     "output_type": "execute_result"
    }
   ],
   "source": [
    "values = [1, 2, 3, 4, 5]\n",
    "multiply = 3\n",
    "\n",
    "new_values = [i*multiply for i in values]\n",
    "new_values"
   ]
  },
  {
   "cell_type": "code",
   "execution_count": 9,
   "metadata": {},
   "outputs": [
    {
     "data": {
      "text/plain": [
       "[1, 2, 3, 4, 5, 1, 2, 3, 4, 5, 1, 2, 3, 4, 5]"
      ]
     },
     "execution_count": 9,
     "metadata": {},
     "output_type": "execute_result"
    }
   ],
   "source": [
    "values = [1, 2, 3, 4, 5]\n",
    "multiply = 3\n",
    "values * multiply"
   ]
  },
  {
   "cell_type": "code",
   "execution_count": 10,
   "metadata": {},
   "outputs": [
    {
     "data": {
      "text/plain": [
       "array([ 3.14159, 12.56636, 28.27431, 50.26544, 78.53975])"
      ]
     },
     "execution_count": 10,
     "metadata": {},
     "output_type": "execute_result"
    }
   ],
   "source": [
    "import numpy as np\n",
    "values_array = np.array([1, 2, 3, 4, 5])\n",
    "multiply = 3\n",
    "values_array * multiply\n",
    "values_array ** 2 * 3.14159"
   ]
  },
  {
   "cell_type": "code",
   "execution_count": 11,
   "metadata": {},
   "outputs": [
    {
     "data": {
      "text/plain": [
       "array([[73, 82, 94, 84, 88],\n",
       "       [62, 98, 77, 54, 63],\n",
       "       [74, 53, 59, 86, 61],\n",
       "       [98, 52, 51, 77, 71],\n",
       "       [90, 97, 89, 79, 97],\n",
       "       [77, 50, 95, 50, 61],\n",
       "       [81, 99, 62, 52, 98],\n",
       "       [51, 61, 97, 89, 74],\n",
       "       [73, 65, 98, 75, 98],\n",
       "       [51, 66, 97, 75, 88],\n",
       "       [76, 51, 67, 60, 56],\n",
       "       [54, 50, 61, 80, 89],\n",
       "       [90, 58, 52, 76, 70],\n",
       "       [73, 90, 59, 72, 81],\n",
       "       [62, 60, 57, 80, 77],\n",
       "       [53, 61, 66, 87, 88],\n",
       "       [60, 99, 87, 72, 67],\n",
       "       [70, 65, 77, 66, 69],\n",
       "       [83, 92, 59, 71, 68],\n",
       "       [79, 67, 72, 72, 90],\n",
       "       [56, 52, 56, 86, 72],\n",
       "       [70, 97, 55, 51, 56],\n",
       "       [60, 63, 87, 68, 59],\n",
       "       [52, 58, 93, 86, 78],\n",
       "       [89, 67, 89, 77, 77],\n",
       "       [86, 96, 84, 62, 99],\n",
       "       [86, 83, 73, 70, 89],\n",
       "       [77, 56, 68, 84, 92],\n",
       "       [81, 90, 86, 68, 98],\n",
       "       [86, 89, 56, 74, 86],\n",
       "       [92, 67, 71, 69, 52],\n",
       "       [68, 55, 72, 66, 57],\n",
       "       [85, 65, 56, 55, 61],\n",
       "       [58, 90, 60, 57, 84],\n",
       "       [79, 71, 62, 84, 87],\n",
       "       [69, 55, 72, 96, 60],\n",
       "       [79, 75, 75, 67, 52],\n",
       "       [60, 97, 51, 80, 57],\n",
       "       [54, 51, 59, 95, 57],\n",
       "       [88, 54, 72, 86, 51],\n",
       "       [66, 90, 74, 67, 69],\n",
       "       [84, 85, 88, 66, 85],\n",
       "       [76, 76, 84, 90, 95],\n",
       "       [69, 60, 82, 93, 97],\n",
       "       [93, 74, 88, 61, 60],\n",
       "       [87, 81, 87, 74, 67],\n",
       "       [85, 94, 83, 66, 84],\n",
       "       [54, 69, 83, 81, 63],\n",
       "       [86, 75, 79, 91, 73],\n",
       "       [52, 57, 55, 52, 97]])"
      ]
     },
     "execution_count": 11,
     "metadata": {},
     "output_type": "execute_result"
    }
   ],
   "source": [
    "import numpy as np\n",
    "np.random.randint(50,100,size=(50,5))"
   ]
  }
 ],
 "metadata": {
  "kernelspec": {
   "display_name": "Python 3",
   "language": "python",
   "name": "python3"
  },
  "language_info": {
   "codemirror_mode": {
    "name": "ipython",
    "version": 3
   },
   "file_extension": ".py",
   "mimetype": "text/x-python",
   "name": "python",
   "nbconvert_exporter": "python",
   "pygments_lexer": "ipython3",
   "version": "3.11.9"
  }
 },
 "nbformat": 4,
 "nbformat_minor": 2
}
