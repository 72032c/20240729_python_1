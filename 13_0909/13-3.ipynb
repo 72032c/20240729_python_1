{
 "cells": [
  {
   "cell_type": "code",
   "execution_count": 8,
   "metadata": {},
   "outputs": [
    {
     "name": "stdout",
     "output_type": "stream",
     "text": [
      "[3, 6, 9, 12, 15]\n",
      "[3, 6, 9, 12, 15]\n",
      "[1, 2, 3, 4, 5, 1, 2, 3, 4, 5, 1, 2, 3, 4, 5]\n"
     ]
    }
   ],
   "source": [
    "values=[1,2,3,4,5]\n",
    "multiply=3\n",
    "\n",
    "new_values=[]\n",
    "for i in values:\n",
    "    new_values.append(i*multiply)\n",
    "print(new_values)\n",
    "\n",
    "new_values = [i*multiply for i in values]\n",
    "print(new_values)\n",
    "\n",
    "print(values * multiply)\n"
   ]
  },
  {
   "cell_type": "code",
   "execution_count": 6,
   "metadata": {},
   "outputs": [
    {
     "data": {
      "text/plain": [
       "array([ 3.14159, 12.56636, 28.27431, 50.26544, 78.53975])"
      ]
     },
     "execution_count": 6,
     "metadata": {},
     "output_type": "execute_result"
    }
   ],
   "source": [
    "import numpy as np\n",
    "values_array = np.array([1, 2, 3, 4, 5])\n",
    "multiply = 3\n",
    "values_array * multiply\n",
    "values_array ** 2 * 3.14159"
   ]
  },
  {
   "cell_type": "code",
   "execution_count": 7,
   "metadata": {},
   "outputs": [
    {
     "data": {
      "text/plain": [
       "array([[70, 77, 65, 92, 53],\n",
       "       [57, 96, 57, 72, 81],\n",
       "       [92, 54, 85, 90, 66],\n",
       "       [94, 90, 60, 57, 50],\n",
       "       [92, 73, 75, 59, 52],\n",
       "       [56, 91, 76, 88, 92],\n",
       "       [71, 74, 69, 73, 61],\n",
       "       [86, 90, 75, 94, 75],\n",
       "       [78, 81, 67, 97, 76],\n",
       "       [99, 51, 68, 59, 70],\n",
       "       [83, 73, 69, 93, 58],\n",
       "       [78, 94, 56, 98, 93],\n",
       "       [83, 96, 99, 60, 50],\n",
       "       [69, 65, 56, 99, 56],\n",
       "       [60, 68, 73, 89, 57],\n",
       "       [71, 97, 76, 79, 66],\n",
       "       [90, 57, 99, 56, 58],\n",
       "       [65, 70, 97, 89, 52],\n",
       "       [53, 69, 85, 95, 68],\n",
       "       [56, 82, 77, 74, 58],\n",
       "       [92, 52, 67, 72, 78],\n",
       "       [73, 63, 83, 60, 54],\n",
       "       [69, 81, 92, 54, 83],\n",
       "       [75, 63, 60, 50, 94],\n",
       "       [99, 99, 94, 65, 90],\n",
       "       [58, 80, 86, 99, 59],\n",
       "       [73, 68, 59, 96, 88],\n",
       "       [56, 50, 89, 90, 80],\n",
       "       [59, 83, 97, 68, 69],\n",
       "       [95, 70, 82, 88, 54],\n",
       "       [89, 86, 55, 63, 54],\n",
       "       [82, 59, 72, 93, 69],\n",
       "       [58, 67, 83, 78, 92],\n",
       "       [68, 91, 86, 50, 91],\n",
       "       [70, 60, 80, 82, 63],\n",
       "       [88, 77, 86, 76, 72],\n",
       "       [50, 50, 78, 96, 67],\n",
       "       [58, 80, 72, 96, 78],\n",
       "       [57, 63, 57, 58, 77],\n",
       "       [93, 51, 67, 77, 96],\n",
       "       [64, 85, 80, 86, 90],\n",
       "       [95, 65, 50, 51, 90],\n",
       "       [69, 56, 77, 52, 81],\n",
       "       [79, 84, 70, 60, 50],\n",
       "       [50, 79, 91, 63, 61],\n",
       "       [95, 82, 96, 83, 66],\n",
       "       [74, 98, 91, 67, 86],\n",
       "       [97, 76, 77, 72, 86],\n",
       "       [67, 89, 97, 65, 70],\n",
       "       [89, 62, 91, 98, 67]])"
      ]
     },
     "execution_count": 7,
     "metadata": {},
     "output_type": "execute_result"
    }
   ],
   "source": [
    "import numpy as np\n",
    "np.random.randint(50,100,size=(50,5))"
   ]
  }
 ],
 "metadata": {
  "kernelspec": {
   "display_name": "Python 3",
   "language": "python",
   "name": "python3"
  },
  "language_info": {
   "codemirror_mode": {
    "name": "ipython",
    "version": 3
   },
   "file_extension": ".py",
   "mimetype": "text/x-python",
   "name": "python",
   "nbconvert_exporter": "python",
   "pygments_lexer": "ipython3",
   "version": "3.11.9"
  }
 },
 "nbformat": 4,
 "nbformat_minor": 2
}
