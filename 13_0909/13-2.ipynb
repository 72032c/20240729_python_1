{
 "cells": [
  {
   "cell_type": "code",
   "execution_count": null,
   "metadata": {},
   "outputs": [],
   "source": [
    "import matplotlib.pyplot as plt\n",
    "\n",
    "fig = plt.figure()\n",
    "\n",
    "ax_1=fig.add_subplot(1, 1, 1)\n",
    "\n",
    "X=[0, 3, 4]\n",
    "Y=[1, 3, 1]\n",
    "ax_1.plot(X, Y,\"bo-\")\n",
    "\n",
    "plt.show()"
   ]
  },
  {
   "cell_type": "code",
   "execution_count": null,
   "metadata": {},
   "outputs": [],
   "source": [
    "import matplotlib.pyplot as plt\n",
    "figure=plt.figure()\n",
    "ax_1=figure.add_subplot(1, 3, 1)\n",
    "ax_2=figure.add_subplot(1, 3, 2) \n",
    "ax_3=figure.add_subplot(1, 3, 3)\n",
    "\n",
    "ax_1.set_title(\"1\")\n",
    "ax_2.set_title(\"2\")\n",
    "ax_3.set_title(\"3\")\n",
    "\n",
    "plt.show()"
   ]
  },
  {
   "cell_type": "code",
   "execution_count": null,
   "metadata": {},
   "outputs": [],
   "source": [
    "import matplotlib.pyplot as plt\n",
    "from matplotlib.font_manager import FontProperties\n",
    "font=FontProperties(fname='/usr/share/fonts/truetype/wqy/wqy-zenhei.ttc',size=8)\n",
    "student1:dict[str,int]={\"國文\":78,\"英文\":60,\"數學\":80,\"歷史\":65,\"探索\":85}\n",
    "student2:dict[str,int]={\"國文\":60,\"英文\":90,\"數學\":70,\"歷史\":73,\"探索\":83}\n",
    "subject = list(student1.keys())\n",
    "score1 = list(student1.values())\n",
    "score2 = list(student2.values())\n",
    "\n",
    "figure = plt.figure(figsize=(10,5))\n",
    "axes = figure.add_subplot(1,1,1)\n",
    "axes.plot(subject,score1,'co--',label='學生1')\n",
    "axes.plot(subject,score2,'bo-.',label='學生2')\n",
    "axes.set_xticklabels(subject,fontproperties=font)\n",
    "axes.set_title('學生1和學生2分數比較表',fontproperties=font)\n",
    "axes.set_xlabel('科目',fontproperties=font)\n",
    "axes.set_ylabel('分數',fontproperties=font)\n",
    "axes.legend(prop=font)\n",
    "axes.grid(axis='y')\n",
    "x_location = axes.get_xticks()\n",
    "for x in x_location:\n",
    "    axes.annotate(str(score1[x]),(x+0.05,score1[x]))\n",
    "    axes.annotate(str(score2[x]),(x+0.05,score2[x]))\n",
    "plt.show()"
   ]
  }
 ],
 "metadata": {
  "kernelspec": {
   "display_name": "Python 3",
   "language": "python",
   "name": "python3"
  },
  "language_info": {
   "codemirror_mode": {
    "name": "ipython",
    "version": 3
   },
   "file_extension": ".py",
   "mimetype": "text/x-python",
   "name": "python",
   "nbconvert_exporter": "python",
   "pygments_lexer": "ipython3",
   "version": "3.11.9"
  }
 },
 "nbformat": 4,
 "nbformat_minor": 2
}
