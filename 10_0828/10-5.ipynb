{
 "cells": [
  {
   "cell_type": "code",
   "execution_count": null,
   "metadata": {},
   "outputs": [],
   "source": [
    "import csv\n",
    "from pprint import pprint\n",
    "with open(\"abc.csv\",encoding=\"utf-8\",newline=\"\") as file:\n",
    "    dictReader=csv.DictReader(file)\n",
    "    contents:list=list(dictReader)\n",
    "pprint(contents)\n",
    "\n",
    "for item in contents:\n",
    "    print(item)"
   ]
  },
  {
   "cell_type": "code",
   "execution_count": null,
   "metadata": {},
   "outputs": [],
   "source": [
    "searchs:list=[]\n",
    "for item in contents:\n",
    "    if \"元大\" in item[\"證券名稱\"]:\n",
    "        searchs.append(item)\n",
    "\n",
    "keys:list[str]=list(searchs[0].keys())\n",
    "keys"
   ]
  },
  {
   "cell_type": "code",
   "execution_count": null,
   "metadata": {},
   "outputs": [],
   "source": [
    "with open(\"searchs.csv\",\"w\",encoding=\"utf-8\",newline=\"\") as file:\n",
    "    csv.DictWriter(file,keys)"
   ]
  }
 ],
 "metadata": {
  "kernelspec": {
   "display_name": "Python 3",
   "language": "python",
   "name": "python3"
  },
  "language_info": {
   "codemirror_mode": {
    "name": "ipython",
    "version": 3
   },
   "file_extension": ".py",
   "mimetype": "text/x-python",
   "name": "python",
   "nbconvert_exporter": "python",
   "pygments_lexer": "ipython3",
   "version": "3.11.9"
  }
 },
 "nbformat": 4,
 "nbformat_minor": 2
}
