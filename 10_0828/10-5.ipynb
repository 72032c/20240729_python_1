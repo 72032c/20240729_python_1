{
 "cells": [
  {
   "cell_type": "code",
   "execution_count": 5,
   "metadata": {},
   "outputs": [
    {
     "name": "stdout",
     "output_type": "stream",
     "text": [
      "<_io.TextIOWrapper name='abc.csv' mode='r' encoding='utf-8'>\n"
     ]
    }
   ],
   "source": [
    "import csv\n",
    "with open(\"abc.csv\",encoding=\"utf-8\",newline=\"\") as csvfile:\n",
    "    csv.reader(csvfile,dialect=\"excel\")\n",
    "    reader=\n",
    "    content:list=list(reader)\n",
    "\n",
    "\n",
    "    print(csvfile)"
   ]
  }
 ],
 "metadata": {
  "kernelspec": {
   "display_name": "Python 3",
   "language": "python",
   "name": "python3"
  },
  "language_info": {
   "codemirror_mode": {
    "name": "ipython",
    "version": 3
   },
   "file_extension": ".py",
   "mimetype": "text/x-python",
   "name": "python",
   "nbconvert_exporter": "python",
   "pygments_lexer": "ipython3",
   "version": "3.11.9"
  }
 },
 "nbformat": 4,
 "nbformat_minor": 2
}
