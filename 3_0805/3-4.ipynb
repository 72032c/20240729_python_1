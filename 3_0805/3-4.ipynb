{
 "cells": [
  {
   "cell_type": "code",
   "execution_count": 26,
   "metadata": {},
   "outputs": [
    {
     "name": "stdout",
     "output_type": "stream",
     "text": [
      "15您好:\n",
      "您的BMI值是:18.52\n"
     ]
    }
   ],
   "source": [
    "name=input(\"請輸入姓名:\")\n",
    "cm=float(input(\"請輸入身高(cm):\"))\n",
    "kg=float(input(\"請輸入體重(kg):\"))\n",
    "m=cm/100\n",
    "bmi=round(kg/m**2,2)\n",
    "print(f'{name}您好:')\n",
    "print(f'您的BMI值是:{bmi}')"
   ]
  }
 ],
 "metadata": {
  "kernelspec": {
   "display_name": "Python 3",
   "language": "python",
   "name": "python3"
  },
  "language_info": {
   "codemirror_mode": {
    "name": "ipython",
    "version": 3
   },
   "file_extension": ".py",
   "mimetype": "text/x-python",
   "name": "python",
   "nbconvert_exporter": "python",
   "pygments_lexer": "ipython3",
   "version": "3.11.9"
  }
 },
 "nbformat": 4,
 "nbformat_minor": 2
}
