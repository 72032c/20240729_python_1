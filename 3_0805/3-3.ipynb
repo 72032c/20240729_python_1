{
 "cells": [
  {
   "cell_type": "code",
   "execution_count": 1,
   "metadata": {},
   "outputs": [
    {
     "name": "stdout",
     "output_type": "stream",
     "text": [
      "50.0台斤=30.0公斤\n",
      "50.0台斤=30.0公斤\n"
     ]
    }
   ],
   "source": [
    "t_kg=float(input(\"請輸入台斤:\"))\n",
    "kg=t_kg*0.6\n",
    "print(str(t_kg)+\"台斤=\"+str(kg)+\"公斤\")\n",
    "print(f'{t_kg}台斤={kg}公斤')"
   ]
  }
 ],
 "metadata": {
  "kernelspec": {
   "display_name": "Python 3",
   "language": "python",
   "name": "python3"
  },
  "language_info": {
   "codemirror_mode": {
    "name": "ipython",
    "version": 3
   },
   "file_extension": ".py",
   "mimetype": "text/x-python",
   "name": "python",
   "nbconvert_exporter": "python",
   "pygments_lexer": "ipython3",
   "version": "3.11.9"
  }
 },
 "nbformat": 4,
 "nbformat_minor": 2
}
