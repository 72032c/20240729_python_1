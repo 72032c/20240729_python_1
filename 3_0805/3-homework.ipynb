{
 "cells": [
  {
   "cell_type": "code",
   "execution_count": null,
   "metadata": {},
   "outputs": [],
   "source": [
    "name=input(\"請輸入姓名:\")\n",
    "cm=float(input(\"請輸入身高(cm):\"))\n",
    "kg=float(input(\"請輸入體重(kg):\"))\n",
    "m=cm/100\n",
    "bmi=round(kg/m**2,2)\n",
    "print(f'{name}您好:')\n",
    "print(f'您的BMI值是:{bmi}')"
   ]
  }
 ],
 "metadata": {
  "language_info": {
   "name": "python"
  }
 },
 "nbformat": 4,
 "nbformat_minor": 2
}
