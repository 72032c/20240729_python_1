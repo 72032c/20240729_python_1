{
 "cells": [
  {
   "cell_type": "code",
   "execution_count": null,
   "metadata": {},
   "outputs": [],
   "source": [
    "site_name='YouBike2.0_國北教大實小東側門'\n",
    "#str也是序列資料\n",
    "for character in site_name:\n",
    "    print(character)\n",
    "\n",
    "#使用index(擷取字串內單一文字)\n",
    "print(site_name[0])\n",
    "print(site_name[-1])\n",
    "\n",
    "#使用slice(擷取字串內文字，左起為0，右起第二字為-1,右起第一字空白)\n",
    "print(site_name[0:7])\n",
    "print(site_name[:7])\n",
    "print(site_name[-9:-1])\n",
    "print(site_name[-9:])\n",
    "print(site_name[11:])"
   ]
  },
  {
   "cell_type": "code",
   "execution_count": null,
   "metadata": {},
   "outputs": [],
   "source": [
    "site_name1 = 'YouBike2.0_臺大水源舍區C棟'\n",
    "print(site_name1[11:])"
   ]
  }
 ],
 "metadata": {
  "kernelspec": {
   "display_name": "Python 3",
   "language": "python",
   "name": "python3"
  },
  "language_info": {
   "codemirror_mode": {
    "name": "ipython",
    "version": 3
   },
   "file_extension": ".py",
   "mimetype": "text/x-python",
   "name": "python",
   "nbconvert_exporter": "python",
   "pygments_lexer": "ipython3",
   "version": "3.11.9"
  }
 },
 "nbformat": 4,
 "nbformat_minor": 2
}
