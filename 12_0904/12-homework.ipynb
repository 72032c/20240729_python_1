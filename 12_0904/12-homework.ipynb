{
 "cells": [
  {
   "cell_type": "code",
   "execution_count": 33,
   "metadata": {},
   "outputs": [
    {
     "ename": "ValidationError",
     "evalue": "4 validation errors for Factory\n75.wgs84ax\n  Input should be a valid number [type=float_type, input_value=None, input_type=NoneType]\n    For further information visit https://errors.pydantic.dev/2.8/v/float_type\n75.wgs84ay\n  Input should be a valid number [type=float_type, input_value=None, input_type=NoneType]\n    For further information visit https://errors.pydantic.dev/2.8/v/float_type\n269.wgs84ax\n  Input should be a valid number [type=float_type, input_value=None, input_type=NoneType]\n    For further information visit https://errors.pydantic.dev/2.8/v/float_type\n269.wgs84ay\n  Input should be a valid number [type=float_type, input_value=None, input_type=NoneType]\n    For further information visit https://errors.pydantic.dev/2.8/v/float_type",
     "output_type": "error",
     "traceback": [
      "\u001b[0;31m---------------------------------------------------------------------------\u001b[0m",
      "\u001b[0;31mValidationError\u001b[0m                           Traceback (most recent call last)",
      "Cell \u001b[0;32mIn[33], line 32\u001b[0m\n\u001b[1;32m     29\u001b[0m \u001b[38;5;28;01mclass\u001b[39;00m \u001b[38;5;21;01mFactory\u001b[39;00m(RootModel):\n\u001b[1;32m     30\u001b[0m     root:\u001b[38;5;28mlist\u001b[39m[Factorydata]\n\u001b[0;32m---> 32\u001b[0m factory:Factory\u001b[38;5;241m=\u001b[39m\u001b[43mFactory\u001b[49m\u001b[38;5;241;43m.\u001b[39;49m\u001b[43mmodel_validate_json\u001b[49m\u001b[43m(\u001b[49m\u001b[43mcontent\u001b[49m\u001b[43m)\u001b[49m\n\u001b[1;32m     33\u001b[0m factory_list\u001b[38;5;241m=\u001b[39mfactory\u001b[38;5;241m.\u001b[39mmodel_dump()\n\u001b[1;32m     34\u001b[0m pprint(factory_list)\n",
      "File \u001b[0;32m~/.local/lib/python3.11/site-packages/pydantic/main.py:597\u001b[0m, in \u001b[0;36mBaseModel.model_validate_json\u001b[0;34m(cls, json_data, strict, context)\u001b[0m\n\u001b[1;32m    595\u001b[0m \u001b[38;5;66;03m# `__tracebackhide__` tells pytest and some other tools to omit this function from tracebacks\u001b[39;00m\n\u001b[1;32m    596\u001b[0m __tracebackhide__ \u001b[38;5;241m=\u001b[39m \u001b[38;5;28;01mTrue\u001b[39;00m\n\u001b[0;32m--> 597\u001b[0m \u001b[38;5;28;01mreturn\u001b[39;00m \u001b[38;5;28;43mcls\u001b[39;49m\u001b[38;5;241;43m.\u001b[39;49m\u001b[43m__pydantic_validator__\u001b[49m\u001b[38;5;241;43m.\u001b[39;49m\u001b[43mvalidate_json\u001b[49m\u001b[43m(\u001b[49m\u001b[43mjson_data\u001b[49m\u001b[43m,\u001b[49m\u001b[43m \u001b[49m\u001b[43mstrict\u001b[49m\u001b[38;5;241;43m=\u001b[39;49m\u001b[43mstrict\u001b[49m\u001b[43m,\u001b[49m\u001b[43m \u001b[49m\u001b[43mcontext\u001b[49m\u001b[38;5;241;43m=\u001b[39;49m\u001b[43mcontext\u001b[49m\u001b[43m)\u001b[49m\n",
      "\u001b[0;31mValidationError\u001b[0m: 4 validation errors for Factory\n75.wgs84ax\n  Input should be a valid number [type=float_type, input_value=None, input_type=NoneType]\n    For further information visit https://errors.pydantic.dev/2.8/v/float_type\n75.wgs84ay\n  Input should be a valid number [type=float_type, input_value=None, input_type=NoneType]\n    For further information visit https://errors.pydantic.dev/2.8/v/float_type\n269.wgs84ax\n  Input should be a valid number [type=float_type, input_value=None, input_type=NoneType]\n    For further information visit https://errors.pydantic.dev/2.8/v/float_type\n269.wgs84ay\n  Input should be a valid number [type=float_type, input_value=None, input_type=NoneType]\n    For further information visit https://errors.pydantic.dev/2.8/v/float_type"
     ]
    }
   ],
   "source": [
    "import requests\n",
    "from requests import Response\n",
    "from pydantic import BaseModel,RootModel,Field,field_validator,field_serializer\n",
    "from datetime import datetime\n",
    "from pprint import pprint\n",
    "\n",
    "url='https://data.ntpc.gov.tw/api/datasets/c51d5111-c300-44c9-b4f1-4b28b9929ca2/json?size=1000'\n",
    "try:\n",
    "    respons:Response=requests.request('GET',url)\n",
    "    respons.raise_for_status()\n",
    "except Exception:\n",
    "    print(\"下載錯誤\")\n",
    "else:\n",
    "    content=respons.text\n",
    "\n",
    "class Factorydata(BaseModel):\n",
    "    名稱:str=Field(alias='organizer')\n",
    "    註冊編號:str=Field(alias='no')\n",
    "    地址:str=Field(alias='address')\n",
    "    統編:str=Field(alias='tax_id_number')\n",
    "    緯度:float=Field(alias='wgs84ax')\n",
    "    經度:float=Field(alias='wgs84ay')\n",
    "    日期:datetime=Field(alias='date')\n",
    "\n",
    "    @field_serializer(\"日期\")\n",
    "    def date_serializer(self,date:datetime)->str:\n",
    "        return date.strftime(f\"中華民國{date.year-1911}年%m月%d日\")\n",
    "    \n",
    "class Factory(RootModel):\n",
    "    root:list[Factorydata]\n",
    "\n",
    "factory:Factory=Factory.model_validate_json(content)\n",
    "factory_list=factory.model_dump()\n",
    "pprint(factory_list)"
   ]
  }
 ],
 "metadata": {
  "kernelspec": {
   "display_name": "Python 3",
   "language": "python",
   "name": "python3"
  },
  "language_info": {
   "codemirror_mode": {
    "name": "ipython",
    "version": 3
   },
   "file_extension": ".py",
   "mimetype": "text/x-python",
   "name": "python",
   "nbconvert_exporter": "python",
   "pygments_lexer": "ipython3",
   "version": "3.11.9"
  }
 },
 "nbformat": 4,
 "nbformat_minor": 2
}
