{
 "cells": [
  {
   "cell_type": "code",
   "execution_count": null,
   "metadata": {},
   "outputs": [],
   "source": [
    "import requests\n",
    "from requests import Response\n",
    "from pydantic import BaseModel,RootModel,Field,field_validator,field_serializer\n",
    "from datetime import datetime\n",
    "from pprint import pprint\n",
    "\n",
    "url='https://data.ntpc.gov.tw/api/datasets/c51d5111-c300-44c9-b4f1-4b28b9929ca2/json?size=1000'\n",
    "try:\n",
    "    respons:Response=requests.request('GET',url)\n",
    "    respons.raise_for_status()\n",
    "except Exception:\n",
    "    print(\"下載錯誤\")\n",
    "else:\n",
    "    content=respons.text\n",
    "\n",
    "class Factorydata(BaseModel):\n",
    "    名稱:str=Field(alias='organizer')\n",
    "    註冊編號:str=Field(alias='no')\n",
    "    地址:str=Field(alias='address')\n",
    "    統編:str=Field(alias='tax_id_number')\n",
    "    緯度:float=Field(alias='wgs84ax')\n",
    "    經度:float=Field(alias='wgs84ay')\n",
    "    日期:datetime=Field(alias='date')\n",
    "\n",
    "    @field_serializer(\"日期\")\n",
    "    def date_serializer(self,date:datetime)->str:\n",
    "        return date.strftime(f\"中華民國{date.year-1911}年%m月%d日\")\n",
    "    \n",
    "class Factory(RootModel):\n",
    "    root:list[Factorydata]\n",
    "\n",
    "factory:Factory=Factory.model_validate_json(content)\n",
    "factory_list=factory.model_dump()\n",
    "pprint(factory_list)"
   ]
  }
 ],
 "metadata": {
  "kernelspec": {
   "display_name": "Python 3",
   "language": "python",
   "name": "python3"
  },
  "language_info": {
   "codemirror_mode": {
    "name": "ipython",
    "version": 3
   },
   "file_extension": ".py",
   "mimetype": "text/x-python",
   "name": "python",
   "nbconvert_exporter": "python",
   "pygments_lexer": "ipython3",
   "version": "3.11.9"
  }
 },
 "nbformat": 4,
 "nbformat_minor": 2
}
