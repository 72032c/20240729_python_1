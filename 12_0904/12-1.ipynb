{
 "cells": [
  {
   "cell_type": "code",
   "execution_count": null,
   "metadata": {},
   "outputs": [],
   "source": [
    "import requests\n",
    "from requests import Response\n",
    "from pydantic import BaseModel,RootModel,Field,field_validator,field_serializer\n",
    "from datetime import datetime\n",
    "from pprint import pprint\n",
    "\n",
    "youbike_url='https://tcgbusfs.blob.core.windows.net/dotapp/youbike/v2/youbike_immediate.json'\n",
    "try:\n",
    "    respons:Response=requests.request('GET',youbike_url)\n",
    "    respons.raise_for_status()\n",
    "except Exception:\n",
    "    print(\"下載錯誤\")\n",
    "else:\n",
    "    content=respons.text\n",
    "\n",
    "#使用自訂的Fields的名稱\n",
    "#轉換型別\n",
    "#自訂驗証\n",
    "#自訂輸出\n",
    "\n",
    "class Station(BaseModel):\n",
    "    站名:str=Field(alias='sna')\n",
    "    行政區:str=Field(alias='sarea')\n",
    "    日期:datetime=Field(alias='mday')\n",
    "    地址:str=Field(alias='ar')\n",
    "    狀態:str=Field(alias='act')\n",
    "    總車輛數:int=Field(alias='total')\n",
    "    可借:int=Field(alias='available_rent_bikes')\n",
    "    可還:int=Field(alias='available_return_bikes')\n",
    "\n",
    "    @field_validator('站名')\n",
    "    @classmethod\n",
    "    def slice_str(cls,name:str):\n",
    "        return name[11:]\n",
    "    \n",
    "    @field_validator('狀態',mode=\"before\")\n",
    "    @classmethod\n",
    "    def slice_str(cls,status:str):\n",
    "        if status==\"1\":\n",
    "            return \"營業中\"\n",
    "        else:\n",
    "            return \"維修中\"\n",
    "        \n",
    "    @field_serializer(\"日期\")\n",
    "    def date_serializer(self,date:datetime)->str:\n",
    "        return date.strftime(f\"中華民國{date.year-1911}年%m月%d日 %H時%M分%S秒\")\n",
    "class Youbikes(RootModel):\n",
    "    root:list[Station]\n",
    "\n",
    "youbikes:Youbikes=Youbikes.model_validate_json(content)\n",
    "youbikes_list=youbikes.model_dump()\n",
    "pprint(youbikes_list)\n",
    "\n",
    "#for item in youbikes_list:\n",
    "#    pprint(item,indent=2)"
   ]
  },
  {
   "cell_type": "code",
   "execution_count": null,
   "metadata": {},
   "outputs": [],
   "source": [
    "from datetime import datetime\n",
    "current:datetime=datetime.now()\n",
    "print(current.year)\n",
    "print(current.month)\n",
    "print(current.day)\n",
    "print(current.hour+8)\n",
    "print(current.minute)\n",
    "print(current.second)"
   ]
  }
 ],
 "metadata": {
  "kernelspec": {
   "display_name": "Python 3",
   "language": "python",
   "name": "python3"
  },
  "language_info": {
   "codemirror_mode": {
    "name": "ipython",
    "version": 3
   },
   "file_extension": ".py",
   "mimetype": "text/x-python",
   "name": "python",
   "nbconvert_exporter": "python",
   "pygments_lexer": "ipython3",
   "version": "3.11.9"
  }
 },
 "nbformat": 4,
 "nbformat_minor": 2
}
