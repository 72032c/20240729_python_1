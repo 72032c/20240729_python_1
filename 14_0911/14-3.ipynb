{
 "cells": [
  {
   "cell_type": "code",
   "execution_count": null,
   "metadata": {},
   "outputs": [],
   "source": [
    "import numpy as np\n",
    "import pandas as pd\n",
    "\n",
    "scores = np.random.randint(50,101,size=(50,5))\n",
    "df1 = pd.DataFrame(scores,columns=['國文','英文','數學','地理','探索'])\n",
    "df1"
   ]
  },
  {
   "cell_type": "code",
   "execution_count": null,
   "metadata": {},
   "outputs": [],
   "source": [
    "import random\n",
    "with open('names.txt',encoding='utf-8') as file:\n",
    "    names_str = file.read()\n",
    "    display(names_str)\n",
    "names_list = names_str.split(sep='\\n')\n",
    "names = random.choices(names_list,k=50)"
   ]
  },
  {
   "cell_type": "code",
   "execution_count": null,
   "metadata": {},
   "outputs": [],
   "source": [
    "import numpy as np\n",
    "import pandas as pd\n",
    "\n",
    "scores = np.random.randint(50,101,size=(50,5))\n",
    "df1 = pd.DataFrame(scores,\n",
    "                   columns=['國文','英文','數學','地理','探索'],\n",
    "                   index=names)\n",
    "df1"
   ]
  },
  {
   "cell_type": "code",
   "execution_count": 18,
   "metadata": {},
   "outputs": [],
   "source": [
    "#to_numpy()\n",
    "df1.to_numpy()\n",
    "#to_csv()\n",
    "df1.to_csv(\"students.csv\")\n",
    "#to_excel()\n",
    "df1.to_excel(\"students.xlsx\",sheet_name=\"3年5班\")"
   ]
  },
  {
   "cell_type": "code",
   "execution_count": null,
   "metadata": {},
   "outputs": [],
   "source": [
    "#讀取檔案\n",
    "import pandas as pd\n",
    "\n",
    "df=pd.read_csv(\"students.csv\",index_col=0)\n",
    "df"
   ]
  },
  {
   "cell_type": "code",
   "execution_count": null,
   "metadata": {},
   "outputs": [],
   "source": [
    "#顯示資料\n",
    "df[[\"國文\",\"英文\",\"數學\"]]"
   ]
  },
  {
   "cell_type": "code",
   "execution_count": null,
   "metadata": {},
   "outputs": [],
   "source": [
    "#陣列運算\n",
    "sum=df[\"國文\"]+df[\"英文\"]+df[\"數學\"]+df[\"地理\"]+df[\"探索\"]\n",
    "average=sum/5\n",
    "df[\"總分\"]=sum\n",
    "df[\"平均\"]=average\n",
    "df"
   ]
  }
 ],
 "metadata": {
  "kernelspec": {
   "display_name": "Python 3",
   "language": "python",
   "name": "python3"
  },
  "language_info": {
   "codemirror_mode": {
    "name": "ipython",
    "version": 3
   },
   "file_extension": ".py",
   "mimetype": "text/x-python",
   "name": "python",
   "nbconvert_exporter": "python",
   "pygments_lexer": "ipython3",
   "version": "3.11.9"
  }
 },
 "nbformat": 4,
 "nbformat_minor": 2
}
