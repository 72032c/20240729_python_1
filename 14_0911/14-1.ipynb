{
 "cells": [
  {
   "cell_type": "code",
   "execution_count": null,
   "metadata": {},
   "outputs": [],
   "source": [
    "import numpy as np\n",
    "list_a=[1,3,5,7,9]\n",
    "list_b=[2,4,6,8,10]\n",
    "print(list_a+list_b)\n",
    "\n",
    "array_a=np.array([1,3,5,7,9])\n",
    "array_b=np.array([2,4,6,8,10])\n",
    "print(array_a+array_b)\n",
    "\n",
    "l=[[1,2,3],[4,5,6]]\n",
    "array=np.array(l)\n",
    "print(array)\n",
    "\n",
    "print(array.ndim, array.shape, array.size, array.dtype)\n",
    "\n",
    "print(np.random.randn(10,5))"
   ]
  },
  {
   "cell_type": "code",
   "execution_count": null,
   "metadata": {},
   "outputs": [],
   "source": [
    "#50個學生,每個學生有5個分數(50-100)\n",
    "scores = np.random.randint(50,101,size=(50,5))\n",
    "print(scores)"
   ]
  },
  {
   "cell_type": "code",
   "execution_count": null,
   "metadata": {},
   "outputs": [],
   "source": [
    "#第一個學生\n",
    "print(scores[0,:])\n",
    "#前5個學生\n",
    "print(scores[:5,:])\n",
    "#最後5個學生\n",
    "print(scores[-5:,:])\n",
    "\n",
    "#全班第1科的分數\n",
    "print(scores[:,0])\n",
    "\n",
    "#全班第2科的分數\n",
    "print(scores[:,1])\n",
    "\n",
    "#每位學生的總分\n",
    "total = scores[:,0] + scores[:,1] + scores[:,2] + scores[:,3] + scores[:,4] \n",
    "print(total)"
   ]
  },
  {
   "cell_type": "code",
   "execution_count": null,
   "metadata": {},
   "outputs": [],
   "source": [
    "#使用統計的方法\n",
    "#每個學生總分\n",
    "print(np.sum(scores,axis=1))\n",
    "#每個學生平均\n",
    "print(np.mean(scores,axis=1))"
   ]
  },
  {
   "cell_type": "code",
   "execution_count": 25,
   "metadata": {},
   "outputs": [],
   "source": [
    "t=np.arange(0,5,0.1)"
   ]
  }
 ],
 "metadata": {
  "kernelspec": {
   "display_name": "Python 3",
   "language": "python",
   "name": "python3"
  },
  "language_info": {
   "codemirror_mode": {
    "name": "ipython",
    "version": 3
   },
   "file_extension": ".py",
   "mimetype": "text/x-python",
   "name": "python",
   "nbconvert_exporter": "python",
   "pygments_lexer": "ipython3",
   "version": "3.12.3"
  }
 },
 "nbformat": 4,
 "nbformat_minor": 2
}
