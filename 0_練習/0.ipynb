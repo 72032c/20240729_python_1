{
 "cells": [
  {
   "cell_type": "code",
   "execution_count": 78,
   "metadata": {},
   "outputs": [
    {
     "name": "stdout",
     "output_type": "stream",
     "text": [
      "500108047 YouBike2.0_瑞光公共住宅(瑞光路)\n",
      "500108150 YouBike2.0_台灣世曦大樓\n"
     ]
    }
   ],
   "source": [
    "import requests\n",
    "import io\n",
    "import json\n",
    "import csv\n",
    "from requests import Response\n",
    "from requests.exceptions import HTTPError,ConnectionError,Timeout\n",
    "from pydantic import BaseModel,RootModel,Field,field_validator,field_serializer\n",
    "from datetime import datetime\n",
    "from pprint import pprint\n",
    "\n",
    "try:\n",
    "    url=\"https://tcgbusfs.blob.core.windows.net/dotapp/youbike/v2/youbike_immediate.json\"\n",
    "    response=requests.get(url)\n",
    "    response.raise_for_status()\n",
    "    content=response.text\n",
    "except ConnectionError:\n",
    "    print(\"連線伺服器發生錯誤\")\n",
    "except Timeout:\n",
    "    print(\"伺服器太忙,沒有回應\")\n",
    "except HTTPError:\n",
    "    print(\"伺服器回應連線錯誤\")\n",
    "except Exception:\n",
    "    print(\"不知名的錯誤\")\n",
    "\n",
    "\n",
    "\n",
    "file=io.StringIO(content)\n",
    "content=json.load(file)\n",
    "\n",
    "class Station():\n",
    "    def __init__(self,name:str,no:float):\n",
    "        self.name = name\n",
    "        self.no = no\n",
    "\n",
    "for station in content:\n",
    "    no:str=station['sno']\n",
    "    name:str=station['sna']\n",
    "\n",
    "    class Station(BaseModel):\n",
    "        站名:str=Field(alias=\"sna\")\n",
    "        行政區:str=Field(alias=\"sarea\")\n",
    "        日期:datetime=Field(alias=\"mday\")\n",
    "        地址:str=Field(alias=\"ar\")\n",
    "        狀態:str=Field(alias=\"act\")\n",
    "        總車輛數:int=Field(alias=\"total\")\n",
    "        可借:int=Field(alias=\"available_rent_bikes\")\n",
    "        可還:int=Field(alias=\"available_return_bikes\")\n",
    "\n",
    "    @field_validator(\"站名\")\n",
    "    @classmethod\n",
    "    def slice_str(cls,name:str):\n",
    "        return name[11:]\n",
    "    \n",
    "    @field_validator(\"狀態\",mode=\"before\")\n",
    "    @classmethod\n",
    "    def slice_str(cls,status:str):\n",
    "        if status==\"1\":\n",
    "            return \"營業中\"\n",
    "        else:\n",
    "            return \"維修中\"\n",
    "        \n",
    "    @field_serializer(\"日期\")\n",
    "    def date_serializer(self,date:datetime)->str:\n",
    "        return date.strftime(f\"中華民國{date.year-1911}年%m月%d日 %H時%M分%S秒\")\n",
    "    \n",
    "    if no==\"500108150\":\n",
    "        print(no,name)\n",
    "    if no==\"500108047\":\n",
    "        print(no,name)"
   ]
  }
 ],
 "metadata": {
  "kernelspec": {
   "display_name": "Python 3",
   "language": "python",
   "name": "python3"
  },
  "language_info": {
   "codemirror_mode": {
    "name": "ipython",
    "version": 3
   },
   "file_extension": ".py",
   "mimetype": "text/x-python",
   "name": "python",
   "nbconvert_exporter": "python",
   "pygments_lexer": "ipython3",
   "version": "3.11.9"
  }
 },
 "nbformat": 4,
 "nbformat_minor": 2
}
