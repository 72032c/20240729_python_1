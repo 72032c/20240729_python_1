{
 "cells": [
  {
   "cell_type": "code",
   "execution_count": 129,
   "metadata": {},
   "outputs": [
    {
     "name": "stdout",
     "output_type": "stream",
     "text": [
      "站名:瑞光公共住宅(瑞光路)\n",
      "狀態:正常\n",
      "總車輛數:18\n",
      "可借:1\n",
      "可還:17\n",
      "日期時間:2024-09-05 15:35:52\n",
      "\n",
      "站名:台灣世曦大樓\n",
      "狀態:正常\n",
      "總車輛數:16\n",
      "可借:8\n",
      "可還:8\n",
      "日期時間:2024-09-05 15:35:52\n",
      "\n"
     ]
    }
   ],
   "source": [
    "import requests\n",
    "import json\n",
    "from requests.exceptions import HTTPError,ConnectionError,Timeout\n",
    "from datetime import datetime\n",
    "\n",
    "try:\n",
    "    url=\"https://tcgbusfs.blob.core.windows.net/dotapp/youbike/v2/youbike_immediate.json\"\n",
    "    response=requests.get(url)\n",
    "    response.raise_for_status()\n",
    "    content=response.text\n",
    "except ConnectionError:\n",
    "    print(\"連線伺服器發生錯誤\")\n",
    "except Timeout:\n",
    "    print(\"伺服器太忙,沒有回應\")\n",
    "except HTTPError:\n",
    "    print(\"伺服器回應連線錯誤\")\n",
    "except Exception:\n",
    "    print(\"不知名的錯誤\")\n",
    "\n",
    "content=json.loads(content)\n",
    "\n",
    "for station in content:\n",
    "    站號:str=station['sno']\n",
    "    站名:str=station['sna'][11:]\n",
    "    狀態:str=\"正常\" if station['act'] ==\"1\" else \"維修中\"\n",
    "    總車輛數:int=station['total']\n",
    "    可借:int=station['available_rent_bikes']\n",
    "    可還:int=station['available_return_bikes']\n",
    "    日期時間:datetime=station['updateTime']\n",
    "\n",
    "    number:list[str]=[\"500108150\", #陽光街上\n",
    "                      \"500108047\"] #瑞光路上\n",
    "    \n",
    "    if 站號 in number:\n",
    "        print(f\"站名:{站名}\\n狀態:{狀態}\\n總車輛數:{總車輛數}\\n可借:{可借}\\n可還:{可還}\\n日期時間:{日期時間}\\n\")"
   ]
  }
 ],
 "metadata": {
  "kernelspec": {
   "display_name": "Python 3",
   "language": "python",
   "name": "python3"
  },
  "language_info": {
   "codemirror_mode": {
    "name": "ipython",
    "version": 3
   },
   "file_extension": ".py",
   "mimetype": "text/x-python",
   "name": "python",
   "nbconvert_exporter": "python",
   "pygments_lexer": "ipython3",
   "version": "3.11.9"
  }
 },
 "nbformat": 4,
 "nbformat_minor": 2
}
