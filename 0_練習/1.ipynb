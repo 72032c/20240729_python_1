{
 "cells": [
  {
   "cell_type": "code",
   "execution_count": 20,
   "metadata": {},
   "outputs": [
    {
     "data": {
      "text/plain": [
       "[<__main__.Station at 0x7c512190c990>,\n",
       " <__main__.Station at 0x7c5121abae10>,\n",
       " <__main__.Station at 0x7c5121abbf90>,\n",
       " <__main__.Station at 0x7c5121aba350>,\n",
       " <__main__.Station at 0x7c5121f82910>,\n",
       " <__main__.Station at 0x7c5121f814d0>,\n",
       " <__main__.Station at 0x7c5121f816d0>,\n",
       " <__main__.Station at 0x7c5121f82f50>,\n",
       " <__main__.Station at 0x7c5121f81b90>,\n",
       " <__main__.Station at 0x7c5121f83190>,\n",
       " <__main__.Station at 0x7c5121f834d0>,\n",
       " <__main__.Station at 0x7c5121f80b90>,\n",
       " <__main__.Station at 0x7c5121ac6910>,\n",
       " <__main__.Station at 0x7c5121ac6350>,\n",
       " <__main__.Station at 0x7c5121ac7950>,\n",
       " <__main__.Station at 0x7c5121f33a90>,\n",
       " <__main__.Station at 0x7c5121a65290>,\n",
       " <__main__.Station at 0x7c5121a65950>,\n",
       " <__main__.Station at 0x7c5121f75b90>,\n",
       " <__main__.Station at 0x7c51382501d0>,\n",
       " <__main__.Station at 0x7c5121a40750>,\n",
       " <__main__.Station at 0x7c5121a41810>,\n",
       " <__main__.Station at 0x7c5121a41290>,\n",
       " <__main__.Station at 0x7c513c0139d0>,\n",
       " <__main__.Station at 0x7c5121a6dc90>,\n",
       " <__main__.Station at 0x7c5121a6e650>,\n",
       " <__main__.Station at 0x7c5121a6c150>,\n",
       " <__main__.Station at 0x7c5121a6fc90>,\n",
       " <__main__.Station at 0x7c512194b510>,\n",
       " <__main__.Station at 0x7c512194b350>,\n",
       " <__main__.Station at 0x7c5121948490>,\n",
       " <__main__.Station at 0x7c5121ade150>,\n",
       " <__main__.Station at 0x7c5121add390>]"
      ]
     },
     "execution_count": 20,
     "metadata": {},
     "output_type": "execute_result"
    }
   ],
   "source": [
    "import requests\n",
    "import io\n",
    "import json\n",
    "from pprint import pprint\n",
    "from requests.exceptions import HTTPError,ConnectionError,Timeout\n",
    "\n",
    "try:\n",
    "    url = 'https://opendata.cwa.gov.tw/fileapi/v1/opendataapi/O-A0091-001?Authorization=rdec-key-123-45678-011121314&format=JSON'\n",
    "    response = requests.get(url)\n",
    "    response.raise_for_status()\n",
    "    #print(type(response))\n",
    "    content = response.text\n",
    "    #print(content)\n",
    "except ConnectionError:\n",
    "    print(\"連線伺服器發生錯誤\")\n",
    "except Timeout:\n",
    "    print(\"伺服器太忙,沒有回應\")\n",
    "except HTTPError:\n",
    "    print(\"伺服器回應連線錯誤\")\n",
    "except Exception:\n",
    "    print(\"不知名的錯誤\")\n",
    "\n",
    "file=io.StringIO(content)\n",
    "content=json.load(file)\n",
    "date:str=content['cwaopendata']['sent']\n",
    "stations=content['cwaopendata']['dataset']['Station']\n",
    "\n",
    "class Station():\n",
    "    def __init__(self,name:str,weather:float):\n",
    "        self.name=name\n",
    "        self.weather=weather\n",
    "\n",
    "stations1:list=[]\n",
    "for station in stations:\n",
    "    name=station['StationName']\n",
    "    weather=station['WeatherElement']['SolarRadiation']\n",
    "    station:Station=Station(name,float(weather))\n",
    "    stations1.append(station)\n",
    "\n",
    "stations1"
   ]
  }
 ],
 "metadata": {
  "kernelspec": {
   "display_name": "Python 3",
   "language": "python",
   "name": "python3"
  },
  "language_info": {
   "codemirror_mode": {
    "name": "ipython",
    "version": 3
   },
   "file_extension": ".py",
   "mimetype": "text/x-python",
   "name": "python",
   "nbconvert_exporter": "python",
   "pygments_lexer": "ipython3",
   "version": "3.11.9"
  }
 },
 "nbformat": 4,
 "nbformat_minor": 2
}
