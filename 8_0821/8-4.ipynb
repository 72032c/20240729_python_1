{
 "cells": [
  {
   "cell_type": "code",
   "execution_count": 5,
   "metadata": {},
   "outputs": [
    {
     "name": "stdout",
     "output_type": "stream",
     "text": [
      "72032c\n",
      "嗨\n"
     ]
    }
   ],
   "source": [
    "class person():\n",
    "    def __init__(self,name:str):\n",
    "        self.name=name\n",
    "\n",
    "p1=person(name=\"72032c\")\n",
    "print(p1.name)\n",
    "p2=person(\"嗨\")\n",
    "print(p2.name)"
   ]
  },
  {
   "cell_type": "code",
   "execution_count": 18,
   "metadata": {},
   "outputs": [
    {
     "name": "stdout",
     "output_type": "stream",
     "text": [
      "我的名字叫:72032c\n",
      "國文分數80\n",
      "英文分數90\n",
      "合計分數170\n",
      "平均分數85.0\n",
      "\n",
      "我的名字叫:嗨\n",
      "國文分數70\n",
      "英文分數90\n",
      "合計分數160\n",
      "平均分數80.0\n"
     ]
    }
   ],
   "source": [
    "class person():\n",
    "    def __init__(self,name:str,c:int,e:int):\n",
    "        self.name=name\n",
    "        self.chinese=c\n",
    "        self.english=e\n",
    "\n",
    "    def sum(self)->int:\n",
    "        return self.chinese+self.english\n",
    "    \n",
    "    def average(self)->float:\n",
    "        return self.sum()/2.0\n",
    "    \n",
    "    def description(self)->str:\n",
    "        return f'我的名字叫:{self.name}\\n國文分數{self.chinese}\\n英文分數{self.english}'\n",
    "\n",
    "p1=person(name=\"72032c\",e=90,c=80)\n",
    "print(p1.description())\n",
    "print(f'合計分數{p1.sum()}\\n平均分數{p1.average()}\\n')\n",
    "p2=person(\"嗨\",70,90)\n",
    "print(p2.description())\n",
    "print(f'合計分數{p2.sum()}\\n平均分數{p2.average()}')"
   ]
  }
 ],
 "metadata": {
  "kernelspec": {
   "display_name": "Python 3",
   "language": "python",
   "name": "python3"
  },
  "language_info": {
   "codemirror_mode": {
    "name": "ipython",
    "version": 3
   },
   "file_extension": ".py",
   "mimetype": "text/x-python",
   "name": "python",
   "nbconvert_exporter": "python",
   "pygments_lexer": "ipython3",
   "version": "3.11.9"
  }
 },
 "nbformat": 4,
 "nbformat_minor": 2
}
