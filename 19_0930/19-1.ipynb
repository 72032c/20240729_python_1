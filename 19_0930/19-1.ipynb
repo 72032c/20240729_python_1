{
 "cells": [
  {
   "cell_type": "code",
   "execution_count": 1,
   "metadata": {},
   "outputs": [
    {
     "name": "stderr",
     "output_type": "stream",
     "text": [
      "[*********************100%***********************]  1 of 1 completed\n",
      "[*********************100%***********************]  1 of 1 completed\n",
      "[*********************100%***********************]  1 of 1 completed\n",
      "[*********************100%***********************]  1 of 1 completed\n"
     ]
    },
    {
     "data": {
      "text/html": [
       "<div>\n",
       "<style scoped>\n",
       "    .dataframe tbody tr th:only-of-type {\n",
       "        vertical-align: middle;\n",
       "    }\n",
       "\n",
       "    .dataframe tbody tr th {\n",
       "        vertical-align: top;\n",
       "    }\n",
       "\n",
       "    .dataframe thead th {\n",
       "        text-align: right;\n",
       "    }\n",
       "</style>\n",
       "<table border=\"1\" class=\"dataframe\">\n",
       "  <thead>\n",
       "    <tr style=\"text-align: right;\">\n",
       "      <th></th>\n",
       "      <th>國泰金</th>\n",
       "      <th>新光金</th>\n",
       "      <th>中信金</th>\n",
       "      <th>台新金</th>\n",
       "    </tr>\n",
       "  </thead>\n",
       "  <tbody>\n",
       "    <tr>\n",
       "      <th>最高價</th>\n",
       "      <td>45.6483 (2023-8-1)</td>\n",
       "      <td>9.8300 (2023-8-1)</td>\n",
       "      <td>27.1760 (2023-12-14)</td>\n",
       "      <td>17.1051 (2023-7-26)</td>\n",
       "    </tr>\n",
       "    <tr>\n",
       "      <th>最低價</th>\n",
       "      <td>37.8090 (2023-1-3)</td>\n",
       "      <td>7.9900 (2023-3-20)</td>\n",
       "      <td>19.1547 (2023-3-17)</td>\n",
       "      <td>13.1006 (2023-1-3)</td>\n",
       "    </tr>\n",
       "  </tbody>\n",
       "</table>\n",
       "</div>"
      ],
      "text/plain": [
       "                    國泰金                 新光金                   中信金  \\\n",
       "最高價  45.6483 (2023-8-1)   9.8300 (2023-8-1)  27.1760 (2023-12-14)   \n",
       "最低價  37.8090 (2023-1-3)  7.9900 (2023-3-20)   19.1547 (2023-3-17)   \n",
       "\n",
       "                     台新金  \n",
       "最高價  17.1051 (2023-7-26)  \n",
       "最低價   13.1006 (2023-1-3)  "
      ]
     },
     "execution_count": 1,
     "metadata": {},
     "output_type": "execute_result"
    }
   ],
   "source": [
    "import yfinance as yf\n",
    "import pandas as pd\n",
    "\n",
    "#國泰金(2882.TW),新光金(2888.TW),中信金(2891.TW),台新金(2887.TW)\n",
    "all_data = {ticker:yf.download(ticker) for ticker in ['2882.TW','2888.TW','2891.TW','2887.TW']}\n",
    "\n",
    "all_data1 = {ticker:df['Adj Close'] for ticker,df in all_data.items()}\n",
    "prices_df = pd.DataFrame(all_data1)\n",
    "\n",
    "prices_df.columns = ['國泰金','新光金','中信金','台新金']\n",
    "prices_df1 = prices_df.dropna()\n",
    "prices_df1_2023 = prices_df1.loc['2023']\n",
    "\n",
    "#平均差\n",
    "prices_df1_2023_avg_diff = prices_df1_2023.pct_change()\n",
    "prices_df1_2023_avg_diff.dropna()\n",
    "\n",
    "#每日差\n",
    "prices_df1_2023_day_diff = prices_df1_2023 - prices_df1_2023.shift(1)\n",
    "prices_df1_2023_day_diff.dropna()\n",
    "\n",
    "#相關係數\n",
    "prices_df1_2023_avg_diff.corr()\n",
    "\n",
    "prices_df1_2023\n",
    "\n",
    "def call(s):\n",
    "    min = s.min()\n",
    "    max = s.max()\n",
    "    max_date = s.idxmax()\n",
    "    min_date = s.idxmin()\n",
    "    return pd.Series([max,max_date, min,min_date],index=['最高價','最高價日期','最低價','最低價日期'])\n",
    "\n",
    "df_high_low_value = prices_df1_2023.apply(call)\n",
    "df_high_low_value\n",
    "\n",
    "def call(s):    \n",
    "    max = s.max()\n",
    "    max_date = s.idxmax()\n",
    "    max_year = max_date.year\n",
    "    max_month = max_date.month\n",
    "    max_day = max_date.day\n",
    "    max_str = f'{max:.4f} ({max_year}-{max_month}-{max_day})'\n",
    "    min = s.min()\n",
    "    min_date = s.idxmin()\n",
    "    min_year = min_date.year\n",
    "    min_month = min_date.month\n",
    "    min_day = min_date.day\n",
    "    min_str = f'{min:.4f} ({min_year}-{min_month}-{min_day})'\n",
    "    return pd.Series([max_str, min_str],index=['最高價','最低價'])\n",
    "\n",
    "df_high_low_value = prices_df1_2023.apply(call)\n",
    "df_high_low_value"
   ]
  }
 ],
 "metadata": {
  "kernelspec": {
   "display_name": "Python 3",
   "language": "python",
   "name": "python3"
  },
  "language_info": {
   "codemirror_mode": {
    "name": "ipython",
    "version": 3
   },
   "file_extension": ".py",
   "mimetype": "text/x-python",
   "name": "python",
   "nbconvert_exporter": "python",
   "pygments_lexer": "ipython3",
   "version": "3.11.10"
  }
 },
 "nbformat": 4,
 "nbformat_minor": 2
}
