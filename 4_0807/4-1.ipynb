{
 "cells": [
  {
   "cell_type": "code",
   "execution_count": 6,
   "metadata": {},
   "outputs": [],
   "source": [
    "age=int(input(\"請輸入年齡\"))\n",
    "\n",
    "if age>=18:\n",
    "    print(\"您可以考駕照\")\n",
    "else:\n",
    "    print(\"您不可以考駕照\")"
   ]
  },
  {
   "cell_type": "code",
   "execution_count": 32,
   "metadata": {},
   "outputs": [
    {
     "name": "stdout",
     "output_type": "stream",
     "text": [
      "學生分數為299\n"
     ]
    }
   ],
   "source": [
    "import math\n",
    "score=int(input(\"請輸入學生分數，最高300分\"))\n",
    "if score>300:\n",
    "    print(\"學生分數大於300分!\")\n",
    "else:\n",
    "    add=input(\"是否要加分(y,n)\")\n",
    "    if add==\"y\":\n",
    "        score*=1.05\n",
    "        score=math.ceil(score)\n",
    "        if score>300:\n",
    "            print(\"學生分數為300分\")\n",
    "        else :\n",
    "            print(f\"學生分數為{score}\")\n",
    "    else :\n",
    "        print(f\"學生分數為{score}\")"
   ]
  }
 ],
 "metadata": {
  "kernelspec": {
   "display_name": "Python 3",
   "language": "python",
   "name": "python3"
  },
  "language_info": {
   "codemirror_mode": {
    "name": "ipython",
    "version": 3
   },
   "file_extension": ".py",
   "mimetype": "text/x-python",
   "name": "python",
   "nbconvert_exporter": "python",
   "pygments_lexer": "ipython3",
   "version": "3.11.9"
  }
 },
 "nbformat": 4,
 "nbformat_minor": 2
}
