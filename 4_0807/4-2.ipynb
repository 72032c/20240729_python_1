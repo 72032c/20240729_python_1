{
 "cells": [
  {
   "cell_type": "code",
   "execution_count": 1,
   "metadata": {},
   "outputs": [
    {
     "name": "stdout",
     "output_type": "stream",
     "text": [
      "學生分數為300\n",
      "程式執行結束\n"
     ]
    }
   ],
   "source": [
    "import math\n",
    "try:\n",
    "    score=int(input(\"請輸入學生分數，最高300分\"))\n",
    "    if score>300:\n",
    "        raise Exception\n",
    "    if score<=0:\n",
    "        raise Exception\n",
    "    add=input(\"學生是否符合加分條件( y or n )\")\n",
    "    if add==\"y\":\n",
    "        score*=1.05\n",
    "        score=math.ceil(score)\n",
    "    if score>300:\n",
    "        score=300\n",
    "    print(f\"學生分數為{score}\")\n",
    "except ValueError:\n",
    "    print(\"格式錯誤\")\n",
    "except Exception:\n",
    "    print(\"超出範圍\")\n",
    "print(\"程式執行結束\")"
   ]
  }
 ],
 "metadata": {
  "kernelspec": {
   "display_name": "Python 3",
   "language": "python",
   "name": "python3"
  },
  "language_info": {
   "codemirror_mode": {
    "name": "ipython",
    "version": 3
   },
   "file_extension": ".py",
   "mimetype": "text/x-python",
   "name": "python",
   "nbconvert_exporter": "python",
   "pygments_lexer": "ipython3",
   "version": "3.11.9"
  }
 },
 "nbformat": 4,
 "nbformat_minor": 2
}
