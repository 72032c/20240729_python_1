{
 "cells": [
  {
   "cell_type": "code",
   "execution_count": 1,
   "metadata": {},
   "outputs": [
    {
     "name": "stdout",
     "output_type": "stream",
     "text": [
      "125您好:\n",
      "BMI值是:20.57\n",
      "體重:適中\n"
     ]
    }
   ],
   "source": [
    "try:\n",
    "    name=str(input(\"請輸入姓名\"))\n",
    "    cm=int(input(\"請輸入身高(cm)\"))\n",
    "    kg=int(input(\"請輸入體重(kg)\"))\n",
    "\n",
    "    if (cm<=0 or kg<=0):\n",
    "        raise Exception\n",
    "except ValueError:\n",
    "    print(\"格式輸入錯誤\")\n",
    "except Exception:\n",
    "    print(\"身高或體重輸入錯誤\")\n",
    "\n",
    "else:\n",
    "    m=float(cm/100)\n",
    "    BMI=float(round(kg/m**2,2))\n",
    "    if BMI<18.5:\n",
    "        kg_check=\"過輕\"\n",
    "    elif BMI<24:\n",
    "        kg_check=\"適中\"\n",
    "    elif BMI<27:\n",
    "        kg_check=\"過重\"\n",
    "    elif BMI<30:\n",
    "        kg_check=\"輕度肥胖\"\n",
    "    elif BMI<35:\n",
    "        kg_check=\"中度肥胖\"\n",
    "    else:\n",
    "        kg_check=\"過度肥胖\"\n",
    "\n",
    "    print(f\"{name}您好:\")\n",
    "    print(f\"BMI值是:{BMI}\")\n",
    "    print(f\"體重:{kg_check}\")"
   ]
  }
 ],
 "metadata": {
  "kernelspec": {
   "display_name": "Python 3",
   "language": "python",
   "name": "python3"
  },
  "language_info": {
   "codemirror_mode": {
    "name": "ipython",
    "version": 3
   },
   "file_extension": ".py",
   "mimetype": "text/x-python",
   "name": "python",
   "nbconvert_exporter": "python",
   "pygments_lexer": "ipython3",
   "version": "3.11.9"
  }
 },
 "nbformat": 4,
 "nbformat_minor": 2
}
