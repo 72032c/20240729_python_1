{
 "cells": [
  {
   "cell_type": "code",
   "execution_count": 7,
   "metadata": {},
   "outputs": [
    {
     "name": "stdout",
     "output_type": "stream",
     "text": [
      "1111您好:\n"
     ]
    }
   ],
   "source": [
    "#input\n",
    "name=str(input(\"請輸入姓名\"))\n",
    "cm=int(input(\"請輸入身高\"))\n",
    "kg=int(input(\"請輸入體重\"))\n",
    "\n",
    "#運算\n",
    "m=int(cm/100)\n",
    "BMI=round(float(kg/m**m),)\n",
    "\n",
    "#print\n",
    "print(f\"{name}您好:\")\n",
    "print(f\"BMI值是:{BMI}\")\n",
    "print(f\"體重:{kg_check}\")"
   ]
  }
 ],
 "metadata": {
  "kernelspec": {
   "display_name": "Python 3",
   "language": "python",
   "name": "python3"
  },
  "language_info": {
   "codemirror_mode": {
    "name": "ipython",
    "version": 3
   },
   "file_extension": ".py",
   "mimetype": "text/x-python",
   "name": "python",
   "nbconvert_exporter": "python",
   "pygments_lexer": "ipython3",
   "version": "3.11.9"
  }
 },
 "nbformat": 4,
 "nbformat_minor": 2
}
