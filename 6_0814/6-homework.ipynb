{
 "cells": [
  {
   "cell_type": "code",
   "execution_count": null,
   "metadata": {},
   "outputs": [],
   "source": [
    "#請修改以下程式碼,計算完成後,問使用者還要繼續('q':離開,enter:繼續)嗎?\n",
    "\n",
    "try:\n",
    "    name=str(input(\"請輸入姓名\"))\n",
    "    height=float(input('請輸入身高'))\n",
    "    weight=float(input('請輸入體重'))\n",
    "    bmi=weight/(((height*0.01))**2)\n",
    "    if bmi<18.5:\n",
    "        grade=\"體重過輕\"\n",
    "    elif bmi<24:\n",
    "        grade=\"正常範圍\"\n",
    "    elif bmi<27:\n",
    "        grade=\"過重\"\n",
    "    elif bmi<30:\n",
    "        grade=\"輕度肥胖\"\n",
    "    elif bmi<35:\n",
    "        grade=\"中度肥胖\"\n",
    "    elif bmi>=35:\n",
    "        grade=\"重度肥胖\"\n",
    "    print(f\"{name}的bmi為{bmi},為{grade}\")\n",
    "except ValueError:\n",
    "    print(\"格式錯誤\")\n",
    "else:\n",
    "    print(\"應用程式結束\")"
   ]
  }
 ],
 "metadata": {
  "language_info": {
   "name": "python"
  }
 },
 "nbformat": 4,
 "nbformat_minor": 2
}
