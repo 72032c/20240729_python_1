{
 "cells": [
  {
   "cell_type": "code",
   "execution_count": 21,
   "metadata": {},
   "outputs": [
    {
     "name": "stdout",
     "output_type": "stream",
     "text": [
      "180的BMI為22.49\n",
      "體重:正常\n",
      "180的BMI為11.89\n",
      "體重:過輕\n",
      "1的BMI為11.89\n",
      "體重:過輕\n",
      "1的BMI為737.22\n",
      "體重:重度肥胖\n",
      "應用程式結束\n"
     ]
    }
   ],
   "source": [
    "#請修改以下程式碼,計算完成後,問使用者還要繼續('q':離開,enter:繼續)嗎?\n",
    "\n",
    "while True:\n",
    "    name=str(input(\"請輸入姓名(輸入q在按enter離開)\"))\n",
    "    if name=='q':\n",
    "        print(\"應用程式結束\")\n",
    "        break\n",
    "    try:\n",
    "        height=float(input('請輸入身高:'))\n",
    "        weight=float(input('請輸入體重:'))\n",
    "        BMI=round(weight/(height*0.01)**2,ndigits=2)\n",
    "        if BMI<18.5:\n",
    "            grade=\"過輕\"\n",
    "        elif BMI<24:\n",
    "            grade=\"正常\"\n",
    "        elif BMI<27:\n",
    "            grade=\"過重\"\n",
    "        elif BMI<30:\n",
    "            grade=\"輕度肥胖\"\n",
    "        elif BMI<35:\n",
    "            grade=\"中度肥胖\"\n",
    "        elif BMI>=35:\n",
    "            grade=\"重度肥胖\"\n",
    "        print(f\"{name}的BMI為{BMI}\\n體重:{grade}\")\n",
    "    except ValueError:\n",
    "        print(\"格式錯誤\")"
   ]
  }
 ],
 "metadata": {
  "kernelspec": {
   "display_name": "Python 3",
   "language": "python",
   "name": "python3"
  },
  "language_info": {
   "codemirror_mode": {
    "name": "ipython",
    "version": 3
   },
   "file_extension": ".py",
   "mimetype": "text/x-python",
   "name": "python",
   "nbconvert_exporter": "python",
   "pygments_lexer": "ipython3",
   "version": "3.11.9"
  }
 },
 "nbformat": 4,
 "nbformat_minor": 2
}
